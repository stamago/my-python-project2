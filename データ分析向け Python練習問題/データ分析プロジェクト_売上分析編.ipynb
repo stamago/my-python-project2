{
 "cells": [
  {
   "cell_type": "markdown",
   "id": "a8109cf9",
   "metadata": {},
   "source": [
    "# 📊 データ分析プロジェクト形式：売上分析編\n",
    "\n",
    "このNotebookは実務を想定した売上データの分析プロジェクト演習です。\n",
    "売上データの集計・分析・可視化を通して、実務感覚を身につけましょう。"
   ]
  },
  {
   "cell_type": "markdown",
   "id": "45668ad1",
   "metadata": {},
   "source": [
    "## 🔸Step 1: データの読み込みと確認"
   ]
  },
  {
   "cell_type": "code",
   "execution_count": 9,
   "id": "283c097c",
   "metadata": {},
   "outputs": [
    {
     "data": {
      "text/html": [
       "<div>\n",
       "<style scoped>\n",
       "    .dataframe tbody tr th:only-of-type {\n",
       "        vertical-align: middle;\n",
       "    }\n",
       "\n",
       "    .dataframe tbody tr th {\n",
       "        vertical-align: top;\n",
       "    }\n",
       "\n",
       "    .dataframe thead th {\n",
       "        text-align: right;\n",
       "    }\n",
       "</style>\n",
       "<table border=\"1\" class=\"dataframe\">\n",
       "  <thead>\n",
       "    <tr style=\"text-align: right;\">\n",
       "      <th></th>\n",
       "      <th>注文日</th>\n",
       "      <th>商品カテゴリ</th>\n",
       "      <th>商品名</th>\n",
       "      <th>単価</th>\n",
       "      <th>数量</th>\n",
       "      <th>売上</th>\n",
       "    </tr>\n",
       "  </thead>\n",
       "  <tbody>\n",
       "    <tr>\n",
       "      <th>0</th>\n",
       "      <td>2024-01-01</td>\n",
       "      <td>A</td>\n",
       "      <td>商品A1</td>\n",
       "      <td>1000</td>\n",
       "      <td>1</td>\n",
       "      <td>1000</td>\n",
       "    </tr>\n",
       "    <tr>\n",
       "      <th>1</th>\n",
       "      <td>2024-01-02</td>\n",
       "      <td>B</td>\n",
       "      <td>商品B1</td>\n",
       "      <td>1500</td>\n",
       "      <td>2</td>\n",
       "      <td>3000</td>\n",
       "    </tr>\n",
       "    <tr>\n",
       "      <th>2</th>\n",
       "      <td>2024-01-03</td>\n",
       "      <td>C</td>\n",
       "      <td>商品C1</td>\n",
       "      <td>2000</td>\n",
       "      <td>3</td>\n",
       "      <td>6000</td>\n",
       "    </tr>\n",
       "    <tr>\n",
       "      <th>3</th>\n",
       "      <td>2024-01-04</td>\n",
       "      <td>A</td>\n",
       "      <td>商品A1</td>\n",
       "      <td>1000</td>\n",
       "      <td>1</td>\n",
       "      <td>1000</td>\n",
       "    </tr>\n",
       "    <tr>\n",
       "      <th>4</th>\n",
       "      <td>2024-01-05</td>\n",
       "      <td>B</td>\n",
       "      <td>商品B1</td>\n",
       "      <td>1500</td>\n",
       "      <td>3</td>\n",
       "      <td>4500</td>\n",
       "    </tr>\n",
       "  </tbody>\n",
       "</table>\n",
       "</div>"
      ],
      "text/plain": [
       "         注文日 商品カテゴリ   商品名    単価  数量    売上\n",
       "0 2024-01-01      A  商品A1  1000   1  1000\n",
       "1 2024-01-02      B  商品B1  1500   2  3000\n",
       "2 2024-01-03      C  商品C1  2000   3  6000\n",
       "3 2024-01-04      A  商品A1  1000   1  1000\n",
       "4 2024-01-05      B  商品B1  1500   3  4500"
      ]
     },
     "execution_count": 9,
     "metadata": {},
     "output_type": "execute_result"
    }
   ],
   "source": [
    "import pandas as pd\n",
    "import matplotlib.pyplot as plt\n",
    "\n",
    "# 仮の売上データ\n",
    "sales_data = pd.DataFrame({\n",
    "    '注文日': pd.date_range(start='2024-01-01', periods=15, freq='D'),\n",
    "    '商品カテゴリ': ['A', 'B', 'C'] * 5,\n",
    "    '商品名': ['商品A1', '商品B1', '商品C1'] * 5,\n",
    "    '単価': [1000, 1500, 2000] * 5,\n",
    "    '数量': [1, 2, 3, 1, 3, 2, 2, 1, 2, 3, 1, 2, 3, 1, 2]\n",
    "})\n",
    "sales_data['売上'] = sales_data['単価'] * sales_data['数量']\n",
    "sales_data.head()"
   ]
  },
  {
   "cell_type": "markdown",
   "id": "b5580b58",
   "metadata": {},
   "source": [
    "## 🔸Step 2: 基本統計量の確認"
   ]
  },
  {
   "cell_type": "code",
   "execution_count": 2,
   "id": "56d89a0d",
   "metadata": {},
   "outputs": [
    {
     "data": {
      "text/html": [
       "<div>\n",
       "<style scoped>\n",
       "    .dataframe tbody tr th:only-of-type {\n",
       "        vertical-align: middle;\n",
       "    }\n",
       "\n",
       "    .dataframe tbody tr th {\n",
       "        vertical-align: top;\n",
       "    }\n",
       "\n",
       "    .dataframe thead th {\n",
       "        text-align: right;\n",
       "    }\n",
       "</style>\n",
       "<table border=\"1\" class=\"dataframe\">\n",
       "  <thead>\n",
       "    <tr style=\"text-align: right;\">\n",
       "      <th></th>\n",
       "      <th>注文日</th>\n",
       "      <th>単価</th>\n",
       "      <th>数量</th>\n",
       "      <th>売上</th>\n",
       "    </tr>\n",
       "  </thead>\n",
       "  <tbody>\n",
       "    <tr>\n",
       "      <th>count</th>\n",
       "      <td>15</td>\n",
       "      <td>15.000000</td>\n",
       "      <td>15.000000</td>\n",
       "      <td>15.000000</td>\n",
       "    </tr>\n",
       "    <tr>\n",
       "      <th>mean</th>\n",
       "      <td>2024-01-08 00:00:00</td>\n",
       "      <td>1500.000000</td>\n",
       "      <td>1.933333</td>\n",
       "      <td>2933.333333</td>\n",
       "    </tr>\n",
       "    <tr>\n",
       "      <th>min</th>\n",
       "      <td>2024-01-01 00:00:00</td>\n",
       "      <td>1000.000000</td>\n",
       "      <td>1.000000</td>\n",
       "      <td>1000.000000</td>\n",
       "    </tr>\n",
       "    <tr>\n",
       "      <th>25%</th>\n",
       "      <td>2024-01-04 12:00:00</td>\n",
       "      <td>1000.000000</td>\n",
       "      <td>1.000000</td>\n",
       "      <td>1500.000000</td>\n",
       "    </tr>\n",
       "    <tr>\n",
       "      <th>50%</th>\n",
       "      <td>2024-01-08 00:00:00</td>\n",
       "      <td>1500.000000</td>\n",
       "      <td>2.000000</td>\n",
       "      <td>3000.000000</td>\n",
       "    </tr>\n",
       "    <tr>\n",
       "      <th>75%</th>\n",
       "      <td>2024-01-11 12:00:00</td>\n",
       "      <td>2000.000000</td>\n",
       "      <td>2.500000</td>\n",
       "      <td>4000.000000</td>\n",
       "    </tr>\n",
       "    <tr>\n",
       "      <th>max</th>\n",
       "      <td>2024-01-15 00:00:00</td>\n",
       "      <td>2000.000000</td>\n",
       "      <td>3.000000</td>\n",
       "      <td>6000.000000</td>\n",
       "    </tr>\n",
       "    <tr>\n",
       "      <th>std</th>\n",
       "      <td>NaN</td>\n",
       "      <td>422.577127</td>\n",
       "      <td>0.798809</td>\n",
       "      <td>1486.446706</td>\n",
       "    </tr>\n",
       "  </tbody>\n",
       "</table>\n",
       "</div>"
      ],
      "text/plain": [
       "                       注文日           単価         数量           売上\n",
       "count                   15    15.000000  15.000000    15.000000\n",
       "mean   2024-01-08 00:00:00  1500.000000   1.933333  2933.333333\n",
       "min    2024-01-01 00:00:00  1000.000000   1.000000  1000.000000\n",
       "25%    2024-01-04 12:00:00  1000.000000   1.000000  1500.000000\n",
       "50%    2024-01-08 00:00:00  1500.000000   2.000000  3000.000000\n",
       "75%    2024-01-11 12:00:00  2000.000000   2.500000  4000.000000\n",
       "max    2024-01-15 00:00:00  2000.000000   3.000000  6000.000000\n",
       "std                    NaN   422.577127   0.798809  1486.446706"
      ]
     },
     "execution_count": 2,
     "metadata": {},
     "output_type": "execute_result"
    }
   ],
   "source": [
    "sales_data.describe()"
   ]
  },
  {
   "cell_type": "markdown",
   "id": "3771ecac",
   "metadata": {},
   "source": [
    "## 🔸Step 3: 商品カテゴリ別売上を集計してください"
   ]
  },
  {
   "cell_type": "code",
   "execution_count": null,
   "id": "5530ff86",
   "metadata": {},
   "outputs": [],
   "source": [
    "# 👇 自分で書いてみましょう"
   ]
  },
  {
   "cell_type": "markdown",
   "id": "9c93d2a5",
   "metadata": {},
   "source": [
    "✅ 解答例"
   ]
  },
  {
   "cell_type": "code",
   "execution_count": 3,
   "id": "fe0e3c5c",
   "metadata": {},
   "outputs": [
    {
     "data": {
      "text/plain": [
       "商品カテゴリ\n",
       "A    10000\n",
       "B    12000\n",
       "C    22000\n",
       "Name: 売上, dtype: int64"
      ]
     },
     "execution_count": 3,
     "metadata": {},
     "output_type": "execute_result"
    }
   ],
   "source": [
    "sales_data.groupby('商品カテゴリ')['売上'].sum()"
   ]
  },
  {
   "cell_type": "markdown",
   "id": "de74a728",
   "metadata": {},
   "source": [
    "## 🔸Step 4: 商品別売上合計を集計し、売上上位3商品を表示してください"
   ]
  },
  {
   "cell_type": "code",
   "execution_count": null,
   "id": "9861b8ca",
   "metadata": {},
   "outputs": [],
   "source": [
    "# 👇 自分で書いてみましょう"
   ]
  },
  {
   "cell_type": "markdown",
   "id": "5f44808f",
   "metadata": {},
   "source": [
    "✅ 解答例"
   ]
  },
  {
   "cell_type": "code",
   "execution_count": 4,
   "id": "526b83df",
   "metadata": {},
   "outputs": [
    {
     "data": {
      "text/plain": [
       "商品名\n",
       "商品C1    22000\n",
       "商品B1    12000\n",
       "商品A1    10000\n",
       "Name: 売上, dtype: int64"
      ]
     },
     "execution_count": 4,
     "metadata": {},
     "output_type": "execute_result"
    }
   ],
   "source": [
    "sales_data.groupby('商品名')['売上'].sum().sort_values(ascending=False).head(3)"
   ]
  },
  {
   "cell_type": "markdown",
   "id": "0d6fd89b",
   "metadata": {},
   "source": [
    "## 🔸Step 5: 日別売上推移を可視化してください"
   ]
  },
  {
   "cell_type": "code",
   "execution_count": null,
   "id": "42168d77",
   "metadata": {},
   "outputs": [],
   "source": [
    "# 👇 自分で書いてみましょう"
   ]
  },
  {
   "cell_type": "markdown",
   "id": "61b0e0df",
   "metadata": {},
   "source": [
    "✅ 解答例"
   ]
  },
  {
   "cell_type": "code",
   "execution_count": 6,
   "id": "63d748d2",
   "metadata": {},
   "outputs": [
    {
     "data": {
      "image/png": "[encoded data removed]",
      "text/plain": [
       "<Figure size 640x480 with 1 Axes>"
      ]
     },
     "metadata": {},
     "output_type": "display_data"
    }
   ],
   "source": [
    "import matplotlib.pyplot as plt\n",
    "import matplotlib\n",
    "\n",
    "# 日本語フォントを指定\n",
    "matplotlib.rcParams['font.family'] = 'MS Gothic'\n",
    "\n",
    "daily_sales = sales_data.groupby('注文日')['売上'].sum()\n",
    "daily_sales.plot(title='日別売上推移', marker='o')\n",
    "plt.xlabel('注文日')\n",
    "plt.ylabel('売上')\n",
    "plt.grid(True)\n",
    "plt.xticks(rotation=45)\n",
    "plt.show()"
   ]
  },
  {
   "cell_type": "markdown",
   "id": "c70a4102",
   "metadata": {},
   "source": [
    "## 🔸Step 6: 考察\n",
    "- 商品カテゴリ別の売上構成比は？\n",
    "- 売上が高い日は？\n",
    "- 改善提案はありますか？\n",
    "\n",
    "➡ ご自身でコメント・考察を書いてみましょう。"
   ]
  }
 ],
 "metadata": {
  "kernelspec": {
   "display_name": "Python 3 (ipykernel)",
   "language": "python",
   "name": "python3"
  },
  "language_info": {
   "codemirror_mode": {
    "name": "ipython",
    "version": 3
   },
   "file_extension": ".py",
   "mimetype": "text/x-python",
   "name": "python",
   "nbconvert_exporter": "python",
   "pygments_lexer": "ipython3",
   "version": "3.13.1"
  }
 },
 "nbformat": 4,
 "nbformat_minor": 5
}
