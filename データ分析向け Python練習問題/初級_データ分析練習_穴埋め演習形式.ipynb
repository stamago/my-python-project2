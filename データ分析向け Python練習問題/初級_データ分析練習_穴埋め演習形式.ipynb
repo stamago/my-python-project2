{
 "cells": [
  {
   "cell_type": "markdown",
   "id": "0cf06e02",
   "metadata": {},
   "source": [
    "# 📘 初級 × データ分析向け Python練習問題（穴埋め演習形式）\n",
    "\n",
    "以下の各問題は「自分で書く練習セル → 解答セル」で構成されています。\n",
    "まずは自分でコードを書いてみましょう！"
   ]
  },
  {
   "cell_type": "markdown",
   "id": "3c5819d0",
   "metadata": {},
   "source": [
    "## Q1: リスト [10, 20, 30, 40, 50] の平均を計算してください"
   ]
  },
  {
   "cell_type": "code",
   "execution_count": 2,
   "id": "fc740e48",
   "metadata": {},
   "outputs": [
    {
     "name": "stdout",
     "output_type": "stream",
     "text": [
      "平均は55.0 です\n"
     ]
    }
   ],
   "source": [
    "# 👇 ここに自分で書いてみましょう\n",
    "data = [10, 20, 30, 40, 50, 60, 70, 80, 90, 100]\n",
    "average = sum(data)/ len(data)\n",
    "print(f'平均は{average} です')"
   ]
  },
  {
   "cell_type": "markdown",
   "id": "2941334e",
   "metadata": {},
   "source": [
    "✅ 解答例"
   ]
  },
  {
   "cell_type": "code",
   "execution_count": 1,
   "id": "6d233a5a",
   "metadata": {},
   "outputs": [
    {
     "name": "stdout",
     "output_type": "stream",
     "text": [
      "平均は 30.0 です\n"
     ]
    }
   ],
   "source": [
    "data = [10, 20, 30, 40, 50]\n",
    "average = sum(data) / len(data)\n",
    "print(f'平均は {average} です')"
   ]
  },
  {
   "cell_type": "markdown",
   "id": "b4b02faa",
   "metadata": {},
   "source": [
    "## Q2: タプル ('A', 'B', 'C', 'D') に 'C' が含まれているか確認してください"
   ]
  },
  {
   "cell_type": "code",
   "execution_count": null,
   "id": "e9e2b233",
   "metadata": {},
   "outputs": [],
   "source": [
    "# 👇 自分で書いてみましょう"
   ]
  },
  {
   "cell_type": "markdown",
   "id": "d29c17f0",
   "metadata": {},
   "source": [
    "✅ 解答例"
   ]
  },
  {
   "cell_type": "code",
   "execution_count": 3,
   "id": "c8cc6456",
   "metadata": {},
   "outputs": [
    {
     "name": "stdout",
     "output_type": "stream",
     "text": [
      "True\n"
     ]
    }
   ],
   "source": [
    "my_tuple = ('A', 'B', 'C', 'D')\n",
    "print('C' in my_tuple)"
   ]
  },
  {
   "cell_type": "markdown",
   "id": "6710d7a6",
   "metadata": {},
   "source": [
    "## Q3: NumPyで0〜9の配列を作り、3倍した配列も出力してください"
   ]
  },
  {
   "cell_type": "code",
   "execution_count": null,
   "id": "b59208cd",
   "metadata": {},
   "outputs": [],
   "source": [
    "# 👇 自分で書いてみましょう"
   ]
  },
  {
   "cell_type": "markdown",
   "id": "76478518",
   "metadata": {},
   "source": [
    "✅ 解答例"
   ]
  },
  {
   "cell_type": "code",
   "execution_count": 4,
   "id": "a7fc245f",
   "metadata": {},
   "outputs": [
    {
     "name": "stdout",
     "output_type": "stream",
     "text": [
      "元の配列: [0 1 2 3 4 5 6 7 8 9]\n",
      "3倍した配列: [ 0  3  6  9 12 15 18 21 24 27]\n"
     ]
    }
   ],
   "source": [
    "import numpy as np\n",
    "arr = np.arange(10)\n",
    "print('元の配列:', arr)\n",
    "print('3倍した配列:', arr * 3)"
   ]
  },
  {
   "cell_type": "markdown",
   "id": "1096ff32",
   "metadata": {},
   "source": [
    "## Q4: 辞書データをDataFrameに変換して表示してください"
   ]
  },
  {
   "cell_type": "code",
   "execution_count": null,
   "id": "e41ea33e",
   "metadata": {},
   "outputs": [],
   "source": [
    "# 👇 自分で書いてみましょう"
   ]
  },
  {
   "cell_type": "markdown",
   "id": "9701f454",
   "metadata": {},
   "source": [
    "✅ 解答例"
   ]
  },
  {
   "cell_type": "code",
   "execution_count": 5,
   "id": "8a95bd05",
   "metadata": {},
   "outputs": [
    {
     "data": {
      "text/html": [
       "<div>\n",
       "<style scoped>\n",
       "    .dataframe tbody tr th:only-of-type {\n",
       "        vertical-align: middle;\n",
       "    }\n",
       "\n",
       "    .dataframe tbody tr th {\n",
       "        vertical-align: top;\n",
       "    }\n",
       "\n",
       "    .dataframe thead th {\n",
       "        text-align: right;\n",
       "    }\n",
       "</style>\n",
       "<table border=\"1\" class=\"dataframe\">\n",
       "  <thead>\n",
       "    <tr style=\"text-align: right;\">\n",
       "      <th></th>\n",
       "      <th>名前</th>\n",
       "      <th>点数</th>\n",
       "    </tr>\n",
       "  </thead>\n",
       "  <tbody>\n",
       "    <tr>\n",
       "      <th>0</th>\n",
       "      <td>佐藤</td>\n",
       "      <td>88</td>\n",
       "    </tr>\n",
       "    <tr>\n",
       "      <th>1</th>\n",
       "      <td>鈴木</td>\n",
       "      <td>92</td>\n",
       "    </tr>\n",
       "    <tr>\n",
       "      <th>2</th>\n",
       "      <td>高橋</td>\n",
       "      <td>76</td>\n",
       "    </tr>\n",
       "  </tbody>\n",
       "</table>\n",
       "</div>"
      ],
      "text/plain": [
       "   名前  点数\n",
       "0  佐藤  88\n",
       "1  鈴木  92\n",
       "2  高橋  76"
      ]
     },
     "execution_count": 5,
     "metadata": {},
     "output_type": "execute_result"
    }
   ],
   "source": [
    "import pandas as pd\n",
    "data = {'名前': ['佐藤', '鈴木', '高橋'], '点数': [88, 92, 76]}\n",
    "df = pd.DataFrame(data)\n",
    "df"
   ]
  },
  {
   "cell_type": "markdown",
   "id": "dc33809b",
   "metadata": {},
   "source": [
    "## Q5: 「点数」列の平均を求めて出力してください"
   ]
  },
  {
   "cell_type": "code",
   "execution_count": null,
   "id": "65f5a828",
   "metadata": {},
   "outputs": [],
   "source": [
    "# 👇 自分で書いてみましょう"
   ]
  },
  {
   "cell_type": "markdown",
   "id": "a9ed37ce",
   "metadata": {},
   "source": [
    "✅ 解答例"
   ]
  },
  {
   "cell_type": "code",
   "execution_count": 6,
   "id": "e5803a99",
   "metadata": {},
   "outputs": [
    {
     "name": "stdout",
     "output_type": "stream",
     "text": [
      "平均点は 85.33333333333333 点です\n"
     ]
    }
   ],
   "source": [
    "平均点 = df['点数'].mean()\n",
    "print(f'平均点は {平均点} 点です')"
   ]
  },
  {
   "cell_type": "markdown",
   "id": "bd9df734",
   "metadata": {},
   "source": [
    "## Q6: 「点数」が80点以上の行を抽出してください"
   ]
  },
  {
   "cell_type": "code",
   "execution_count": null,
   "id": "4c63aecd",
   "metadata": {},
   "outputs": [],
   "source": [
    "# 👇 自分で書いてみましょう"
   ]
  },
  {
   "cell_type": "markdown",
   "id": "f0cf06ff",
   "metadata": {},
   "source": [
    "✅ 解答例"
   ]
  },
  {
   "cell_type": "code",
   "execution_count": 7,
   "id": "6547b8f3",
   "metadata": {},
   "outputs": [
    {
     "data": {
      "text/html": [
       "<div>\n",
       "<style scoped>\n",
       "    .dataframe tbody tr th:only-of-type {\n",
       "        vertical-align: middle;\n",
       "    }\n",
       "\n",
       "    .dataframe tbody tr th {\n",
       "        vertical-align: top;\n",
       "    }\n",
       "\n",
       "    .dataframe thead th {\n",
       "        text-align: right;\n",
       "    }\n",
       "</style>\n",
       "<table border=\"1\" class=\"dataframe\">\n",
       "  <thead>\n",
       "    <tr style=\"text-align: right;\">\n",
       "      <th></th>\n",
       "      <th>名前</th>\n",
       "      <th>点数</th>\n",
       "    </tr>\n",
       "  </thead>\n",
       "  <tbody>\n",
       "    <tr>\n",
       "      <th>0</th>\n",
       "      <td>佐藤</td>\n",
       "      <td>88</td>\n",
       "    </tr>\n",
       "    <tr>\n",
       "      <th>1</th>\n",
       "      <td>鈴木</td>\n",
       "      <td>92</td>\n",
       "    </tr>\n",
       "  </tbody>\n",
       "</table>\n",
       "</div>"
      ],
      "text/plain": [
       "   名前  点数\n",
       "0  佐藤  88\n",
       "1  鈴木  92"
      ]
     },
     "execution_count": 7,
     "metadata": {},
     "output_type": "execute_result"
    }
   ],
   "source": [
    "df[df['点数'] >= 80]"
   ]
  },
  {
   "cell_type": "markdown",
   "id": "6f6f7c34",
   "metadata": {},
   "source": [
    "## Q7: 「評価」列を追加し、80点以上なら「合格」、未満なら「不合格」と表示してください"
   ]
  },
  {
   "cell_type": "code",
   "execution_count": null,
   "id": "702e76ad",
   "metadata": {},
   "outputs": [],
   "source": [
    "# 👇 自分で書いてみましょう"
   ]
  },
  {
   "cell_type": "markdown",
   "id": "76ea0135",
   "metadata": {},
   "source": [
    "✅ 解答例"
   ]
  },
  {
   "cell_type": "code",
   "execution_count": 8,
   "id": "8fb56baf",
   "metadata": {},
   "outputs": [
    {
     "data": {
      "text/html": [
       "<div>\n",
       "<style scoped>\n",
       "    .dataframe tbody tr th:only-of-type {\n",
       "        vertical-align: middle;\n",
       "    }\n",
       "\n",
       "    .dataframe tbody tr th {\n",
       "        vertical-align: top;\n",
       "    }\n",
       "\n",
       "    .dataframe thead th {\n",
       "        text-align: right;\n",
       "    }\n",
       "</style>\n",
       "<table border=\"1\" class=\"dataframe\">\n",
       "  <thead>\n",
       "    <tr style=\"text-align: right;\">\n",
       "      <th></th>\n",
       "      <th>名前</th>\n",
       "      <th>点数</th>\n",
       "      <th>評価</th>\n",
       "    </tr>\n",
       "  </thead>\n",
       "  <tbody>\n",
       "    <tr>\n",
       "      <th>0</th>\n",
       "      <td>佐藤</td>\n",
       "      <td>88</td>\n",
       "      <td>合格</td>\n",
       "    </tr>\n",
       "    <tr>\n",
       "      <th>1</th>\n",
       "      <td>鈴木</td>\n",
       "      <td>92</td>\n",
       "      <td>合格</td>\n",
       "    </tr>\n",
       "    <tr>\n",
       "      <th>2</th>\n",
       "      <td>高橋</td>\n",
       "      <td>76</td>\n",
       "      <td>不合格</td>\n",
       "    </tr>\n",
       "  </tbody>\n",
       "</table>\n",
       "</div>"
      ],
      "text/plain": [
       "   名前  点数   評価\n",
       "0  佐藤  88   合格\n",
       "1  鈴木  92   合格\n",
       "2  高橋  76  不合格"
      ]
     },
     "execution_count": 8,
     "metadata": {},
     "output_type": "execute_result"
    }
   ],
   "source": [
    "df['評価'] = df['点数'].apply(lambda x: '合格' if x >= 80 else '不合格')\n",
    "df"
   ]
  },
  {
   "cell_type": "markdown",
   "id": "59cd4680",
   "metadata": {},
   "source": [
    "## Q8: DataFrameをCSVに保存し、再読み込みして先頭5行を表示してください"
   ]
  },
  {
   "cell_type": "code",
   "execution_count": null,
   "id": "c6564d9b",
   "metadata": {},
   "outputs": [],
   "source": [
    "# 👇 自分で書いてみましょう"
   ]
  },
  {
   "cell_type": "markdown",
   "id": "5024ac4e",
   "metadata": {},
   "source": [
    "✅ 解答例"
   ]
  },
  {
   "cell_type": "code",
   "execution_count": 9,
   "id": "0a518ffd",
   "metadata": {},
   "outputs": [
    {
     "data": {
      "text/html": [
       "<div>\n",
       "<style scoped>\n",
       "    .dataframe tbody tr th:only-of-type {\n",
       "        vertical-align: middle;\n",
       "    }\n",
       "\n",
       "    .dataframe tbody tr th {\n",
       "        vertical-align: top;\n",
       "    }\n",
       "\n",
       "    .dataframe thead th {\n",
       "        text-align: right;\n",
       "    }\n",
       "</style>\n",
       "<table border=\"1\" class=\"dataframe\">\n",
       "  <thead>\n",
       "    <tr style=\"text-align: right;\">\n",
       "      <th></th>\n",
       "      <th>名前</th>\n",
       "      <th>点数</th>\n",
       "      <th>評価</th>\n",
       "    </tr>\n",
       "  </thead>\n",
       "  <tbody>\n",
       "    <tr>\n",
       "      <th>0</th>\n",
       "      <td>佐藤</td>\n",
       "      <td>88</td>\n",
       "      <td>合格</td>\n",
       "    </tr>\n",
       "    <tr>\n",
       "      <th>1</th>\n",
       "      <td>鈴木</td>\n",
       "      <td>92</td>\n",
       "      <td>合格</td>\n",
       "    </tr>\n",
       "    <tr>\n",
       "      <th>2</th>\n",
       "      <td>高橋</td>\n",
       "      <td>76</td>\n",
       "      <td>不合格</td>\n",
       "    </tr>\n",
       "  </tbody>\n",
       "</table>\n",
       "</div>"
      ],
      "text/plain": [
       "   名前  点数   評価\n",
       "0  佐藤  88   合格\n",
       "1  鈴木  92   合格\n",
       "2  高橋  76  不合格"
      ]
     },
     "execution_count": 9,
     "metadata": {},
     "output_type": "execute_result"
    }
   ],
   "source": [
    "df.to_csv('sample.csv', index=False)\n",
    "df_read = pd.read_csv('sample.csv')\n",
    "df_read.head()"
   ]
  },
  {
   "cell_type": "markdown",
   "id": "f79e1f8f",
   "metadata": {},
   "source": [
    "## Q9: 「点数」のヒストグラムをMatplotlibで表示してください"
   ]
  },
  {
   "cell_type": "code",
   "execution_count": null,
   "id": "ece4bcbf",
   "metadata": {},
   "outputs": [],
   "source": [
    "# 👇 自分で書いてみましょう"
   ]
  },
  {
   "cell_type": "markdown",
   "id": "d445bb6f",
   "metadata": {},
   "source": [
    "✅ 解答例"
   ]
  },
  {
   "cell_type": "code",
   "execution_count": 10,
   "id": "d782b129",
   "metadata": {},
   "outputs": [
    {
     "name": "stderr",
     "output_type": "stream",
     "text": [
      "C:\\Users\\stama\\AppData\\Local\\Programs\\Python\\Python313\\Lib\\site-packages\\IPython\\core\\pylabtools.py:170: UserWarning: Glyph 20154 (\\N{CJK UNIFIED IDEOGRAPH-4EBA}) missing from font(s) DejaVu Sans.\n",
      "  fig.canvas.print_figure(bytes_io, **kw)\n",
      "C:\\Users\\stama\\AppData\\Local\\Programs\\Python\\Python313\\Lib\\site-packages\\IPython\\core\\pylabtools.py:170: UserWarning: Glyph 25968 (\\N{CJK UNIFIED IDEOGRAPH-6570}) missing from font(s) DejaVu Sans.\n",
      "  fig.canvas.print_figure(bytes_io, **kw)\n",
      "C:\\Users\\stama\\AppData\\Local\\Programs\\Python\\Python313\\Lib\\site-packages\\IPython\\core\\pylabtools.py:170: UserWarning: Glyph 28857 (\\N{CJK UNIFIED IDEOGRAPH-70B9}) missing from font(s) DejaVu Sans.\n",
      "  fig.canvas.print_figure(bytes_io, **kw)\n",
      "C:\\Users\\stama\\AppData\\Local\\Programs\\Python\\Python313\\Lib\\site-packages\\IPython\\core\\pylabtools.py:170: UserWarning: Glyph 12398 (\\N{HIRAGANA LETTER NO}) missing from font(s) DejaVu Sans.\n",
      "  fig.canvas.print_figure(bytes_io, **kw)\n",
      "C:\\Users\\stama\\AppData\\Local\\Programs\\Python\\Python313\\Lib\\site-packages\\IPython\\core\\pylabtools.py:170: UserWarning: Glyph 12498 (\\N{KATAKANA LETTER HI}) missing from font(s) DejaVu Sans.\n",
      "  fig.canvas.print_figure(bytes_io, **kw)\n",
      "C:\\Users\\stama\\AppData\\Local\\Programs\\Python\\Python313\\Lib\\site-packages\\IPython\\core\\pylabtools.py:170: UserWarning: Glyph 12473 (\\N{KATAKANA LETTER SU}) missing from font(s) DejaVu Sans.\n",
      "  fig.canvas.print_figure(bytes_io, **kw)\n",
      "C:\\Users\\stama\\AppData\\Local\\Programs\\Python\\Python313\\Lib\\site-packages\\IPython\\core\\pylabtools.py:170: UserWarning: Glyph 12488 (\\N{KATAKANA LETTER TO}) missing from font(s) DejaVu Sans.\n",
      "  fig.canvas.print_figure(bytes_io, **kw)\n",
      "C:\\Users\\stama\\AppData\\Local\\Programs\\Python\\Python313\\Lib\\site-packages\\IPython\\core\\pylabtools.py:170: UserWarning: Glyph 12464 (\\N{KATAKANA LETTER GU}) missing from font(s) DejaVu Sans.\n",
      "  fig.canvas.print_figure(bytes_io, **kw)\n",
      "C:\\Users\\stama\\AppData\\Local\\Programs\\Python\\Python313\\Lib\\site-packages\\IPython\\core\\pylabtools.py:170: UserWarning: Glyph 12521 (\\N{KATAKANA LETTER RA}) missing from font(s) DejaVu Sans.\n",
      "  fig.canvas.print_figure(bytes_io, **kw)\n",
      "C:\\Users\\stama\\AppData\\Local\\Programs\\Python\\Python313\\Lib\\site-packages\\IPython\\core\\pylabtools.py:170: UserWarning: Glyph 12512 (\\N{KATAKANA LETTER MU}) missing from font(s) DejaVu Sans.\n",
      "  fig.canvas.print_figure(bytes_io, **kw)\n"
     ]
    },
    {
     "data": {
      "image/png": "[encoded data removed]",
      "text/plain": [
       "<Figure size 640x480 with 1 Axes>"
      ]
     },
     "metadata": {},
     "output_type": "display_data"
    }
   ],
   "source": [
    "import matplotlib.pyplot as plt\n",
    "plt.hist(df['点数'], bins=5)\n",
    "plt.title('点数のヒストグラム')\n",
    "plt.xlabel('点数')\n",
    "plt.ylabel('人数')\n",
    "plt.grid(True)\n",
    "plt.show()"
   ]
  },
  {
   "cell_type": "markdown",
   "id": "de1e04c9",
   "metadata": {},
   "source": [
    "## Q10: 「点数」の最大・最小・中央値・標準偏差を求めてください"
   ]
  },
  {
   "cell_type": "code",
   "execution_count": null,
   "id": "31ce6f4f",
   "metadata": {},
   "outputs": [],
   "source": [
    "# 👇 自分で書いてみましょう"
   ]
  },
  {
   "cell_type": "markdown",
   "id": "8eed0ce7",
   "metadata": {},
   "source": [
    "✅ 解答例"
   ]
  },
  {
   "cell_type": "code",
   "execution_count": null,
   "id": "a8c07417",
   "metadata": {},
   "outputs": [],
   "source": [
    "print('最大点:', df['点数'].max())\n",
    "print('最小点:', df['点数'].min())\n",
    "print('中央値:', df['点数'].median())\n",
    "print('標準偏差:', df['点数'].std())"
   ]
  }
 ],
 "metadata": {
  "kernelspec": {
   "display_name": "Python 3 (ipykernel)",
   "language": "python",
   "name": "python3"
  },
  "language_info": {
   "codemirror_mode": {
    "name": "ipython",
    "version": 3
   },
   "file_extension": ".py",
   "mimetype": "text/x-python",
   "name": "python",
   "nbconvert_exporter": "python",
   "pygments_lexer": "ipython3",
   "version": "3.13.1"
  }
 },
 "nbformat": 4,
 "nbformat_minor": 5
}
