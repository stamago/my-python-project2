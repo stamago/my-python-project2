{
 "cells": [
  {
   "cell_type": "markdown",
   "id": "d1d310bc",
   "metadata": {},
   "source": [
    "# 📊 データ分析プロジェクト形式：ユーザー行動ログ分析編\n",
    "\n",
    "このNotebookでは、Webサービスのユーザー行動ログを分析する実践的な演習を行います。\n",
    "ユーザーID、ページ閲覧、滞在時間などのログから傾向を読み取りましょう。"
   ]
  },
  {
   "cell_type": "markdown",
   "id": "d619f8cb",
   "metadata": {},
   "source": [
    "## 🔸Step 1: データの読み込みと確認"
   ]
  },
  {
   "cell_type": "code",
   "execution_count": 2,
   "id": "e9fecb0c",
   "metadata": {},
   "outputs": [
    {
     "data": {
      "text/html": [
       "<div>\n",
       "<style scoped>\n",
       "    .dataframe tbody tr th:only-of-type {\n",
       "        vertical-align: middle;\n",
       "    }\n",
       "\n",
       "    .dataframe tbody tr th {\n",
       "        vertical-align: top;\n",
       "    }\n",
       "\n",
       "    .dataframe thead th {\n",
       "        text-align: right;\n",
       "    }\n",
       "</style>\n",
       "<table border=\"1\" class=\"dataframe\">\n",
       "  <thead>\n",
       "    <tr style=\"text-align: right;\">\n",
       "      <th></th>\n",
       "      <th>ユーザーID</th>\n",
       "      <th>アクセス日時</th>\n",
       "      <th>ページ</th>\n",
       "      <th>滞在時間（秒）</th>\n",
       "    </tr>\n",
       "  </thead>\n",
       "  <tbody>\n",
       "    <tr>\n",
       "      <th>0</th>\n",
       "      <td>101</td>\n",
       "      <td>2024-01-01 09:00:00</td>\n",
       "      <td>TOP</td>\n",
       "      <td>60</td>\n",
       "    </tr>\n",
       "    <tr>\n",
       "      <th>1</th>\n",
       "      <td>102</td>\n",
       "      <td>2024-01-01 10:00:00</td>\n",
       "      <td>商品</td>\n",
       "      <td>120</td>\n",
       "    </tr>\n",
       "    <tr>\n",
       "      <th>2</th>\n",
       "      <td>103</td>\n",
       "      <td>2024-01-01 11:00:00</td>\n",
       "      <td>カート</td>\n",
       "      <td>180</td>\n",
       "    </tr>\n",
       "    <tr>\n",
       "      <th>3</th>\n",
       "      <td>104</td>\n",
       "      <td>2024-01-01 12:00:00</td>\n",
       "      <td>TOP</td>\n",
       "      <td>90</td>\n",
       "    </tr>\n",
       "    <tr>\n",
       "      <th>4</th>\n",
       "      <td>105</td>\n",
       "      <td>2024-01-01 13:00:00</td>\n",
       "      <td>検索</td>\n",
       "      <td>45</td>\n",
       "    </tr>\n",
       "  </tbody>\n",
       "</table>\n",
       "</div>"
      ],
      "text/plain": [
       "   ユーザーID              アクセス日時  ページ  滞在時間（秒）\n",
       "0     101 2024-01-01 09:00:00  TOP       60\n",
       "1     102 2024-01-01 10:00:00   商品      120\n",
       "2     103 2024-01-01 11:00:00  カート      180\n",
       "3     104 2024-01-01 12:00:00  TOP       90\n",
       "4     105 2024-01-01 13:00:00   検索       45"
      ]
     },
     "execution_count": 2,
     "metadata": {},
     "output_type": "execute_result"
    }
   ],
   "source": [
    "import pandas as pd\n",
    "import matplotlib.pyplot as plt\n",
    "\n",
    "# 架空の行動ログデータ\n",
    "log_data = pd.DataFrame({\n",
    "    'ユーザーID': [101, 102, 103, 104, 105, 101, 102, 106, 107, 108],\n",
    "    'アクセス日時': pd.date_range(start='2024-01-01 09:00', periods=10, freq='h'),\n",
    "    'ページ': ['TOP', '商品', 'カート', 'TOP', '検索', '商品', '商品', 'カート', 'TOP', '検索'],\n",
    "    '滞在時間（秒）': [60, 120, 180, 90, 45, 100, 130, 160, 55, 70]\n",
    "})\n",
    "log_data.head()"
   ]
  },
  {
   "cell_type": "markdown",
   "id": "db1b0065",
   "metadata": {},
   "source": [
    "## 🔸Step 2: ページ別のアクセス数を集計してください"
   ]
  },
  {
   "cell_type": "code",
   "execution_count": 3,
   "id": "6f9bd56c",
   "metadata": {},
   "outputs": [
    {
     "data": {
      "text/plain": [
       "ページ\n",
       "TOP    3\n",
       "商品     3\n",
       "カート    2\n",
       "検索     2\n",
       "Name: count, dtype: int64"
      ]
     },
     "execution_count": 3,
     "metadata": {},
     "output_type": "execute_result"
    }
   ],
   "source": [
    "# 👇 自分で書いてみましょう\n",
    "log_data['ページ'].value_counts()"
   ]
  },
  {
   "cell_type": "markdown",
   "id": "61d85c6b",
   "metadata": {},
   "source": [
    "✅ 解答例"
   ]
  },
  {
   "cell_type": "code",
   "execution_count": null,
   "id": "fd7fb170",
   "metadata": {},
   "outputs": [],
   "source": [
    "log_data['ページ'].value_counts()"
   ]
  },
  {
   "cell_type": "markdown",
   "id": "e3b36284",
   "metadata": {},
   "source": [
    "## 🔸Step 3: ページごとの平均滞在時間を集計してください"
   ]
  },
  {
   "cell_type": "code",
   "execution_count": 8,
   "id": "3e53684f",
   "metadata": {},
   "outputs": [
    {
     "data": {
      "text/plain": [
       "ページ\n",
       "TOP     68.333333\n",
       "カート    170.000000\n",
       "商品     116.666667\n",
       "検索      57.500000\n",
       "Name: 滞在時間（秒）, dtype: float64"
      ]
     },
     "execution_count": 8,
     "metadata": {},
     "output_type": "execute_result"
    }
   ],
   "source": [
    "# 👇 自分で書いてみましょう\n",
    "log_data.groupby('ページ')['滞在時間（秒）'].mean()"
   ]
  },
  {
   "cell_type": "markdown",
   "id": "62491892",
   "metadata": {},
   "source": [
    "✅ 解答例"
   ]
  },
  {
   "cell_type": "code",
   "execution_count": 5,
   "id": "6cd98ccd",
   "metadata": {},
   "outputs": [
    {
     "data": {
      "text/plain": [
       "ページ\n",
       "TOP     68.333333\n",
       "カート    170.000000\n",
       "商品     116.666667\n",
       "検索      57.500000\n",
       "Name: 滞在時間（秒）, dtype: float64"
      ]
     },
     "execution_count": 5,
     "metadata": {},
     "output_type": "execute_result"
    }
   ],
   "source": [
    "log_data.groupby('ページ')['滞在時間（秒）'].mean()"
   ]
  },
  {
   "cell_type": "markdown",
   "id": "2caa2cb1",
   "metadata": {},
   "source": [
    "## 🔸Step 4: 各ユーザーのアクセス回数をカウントしてください"
   ]
  },
  {
   "cell_type": "code",
   "execution_count": 9,
   "id": "21a88223",
   "metadata": {},
   "outputs": [
    {
     "data": {
      "text/plain": [
       "ユーザーID\n",
       "101    2\n",
       "102    2\n",
       "103    1\n",
       "104    1\n",
       "105    1\n",
       "106    1\n",
       "107    1\n",
       "108    1\n",
       "Name: count, dtype: int64"
      ]
     },
     "execution_count": 9,
     "metadata": {},
     "output_type": "execute_result"
    }
   ],
   "source": [
    "# 👇 自分で書いてみましょう\n",
    "log_data['ユーザーID'].value_counts()"
   ]
  },
  {
   "cell_type": "markdown",
   "id": "53dee74c",
   "metadata": {},
   "source": [
    "✅ 解答例"
   ]
  },
  {
   "cell_type": "code",
   "execution_count": null,
   "id": "cf8476c1",
   "metadata": {},
   "outputs": [],
   "source": [
    "log_data['ユーザーID'].value_counts()"
   ]
  },
  {
   "cell_type": "markdown",
   "id": "e7e2b827",
   "metadata": {},
   "source": [
    "## 🔸Step 5: アクセス時間の時系列グラフを描いてみましょう"
   ]
  },
  {
   "cell_type": "code",
   "execution_count": null,
   "id": "314c55b8",
   "metadata": {},
   "outputs": [],
   "source": [
    "# 👇 自分で書いてみましょう"
   ]
  },
  {
   "cell_type": "markdown",
   "id": "f33452a0",
   "metadata": {},
   "source": [
    "✅ 解答例"
   ]
  },
  {
   "cell_type": "code",
   "execution_count": 12,
   "id": "764815de",
   "metadata": {},
   "outputs": [
    {
     "data": {
      "image/png": "[encoded data removed]",
      "text/plain": [
       "<Figure size 640x480 with 1 Axes>"
      ]
     },
     "metadata": {},
     "output_type": "display_data"
    }
   ],
   "source": [
    "# 👇 自分で書いてみましょう\n",
    "import matplotlib.pyplot as plt\n",
    "import matplotlib\n",
    "\n",
    "# 日本語フォントを指定\n",
    "matplotlib.rcParams['font.family'] = 'MS Gothic'\n",
    "\n",
    "log_data['アクセス日時'].dt.hour.value_counts().sort_index().plot(kind='bar')\n",
    "plt.title('時間帯別アクセス数')\n",
    "plt.xlabel('時間（時）')\n",
    "plt.ylabel('アクセス数')\n",
    "plt.grid(True)\n",
    "plt.show()"
   ]
  },
  {
   "cell_type": "markdown",
   "id": "38eae5cd",
   "metadata": {},
   "source": [
    "## 🔸Step 6: 考察\n",
    "- よく見られているページは？\n",
    "- 滞在時間が短いページは？\n",
    "- 特定時間にアクセスが集中している？\n",
    "\n",
    "➡ 自由にコメントを記述してください。"
   ]
  }
 ],
 "metadata": {
  "kernelspec": {
   "display_name": "Python 3 (ipykernel)",
   "language": "python",
   "name": "python3"
  },
  "language_info": {
   "codemirror_mode": {
    "name": "ipython",
    "version": 3
   },
   "file_extension": ".py",
   "mimetype": "text/x-python",
   "name": "python",
   "nbconvert_exporter": "python",
   "pygments_lexer": "ipython3",
   "version": "3.13.1"
  }
 },
 "nbformat": 4,
 "nbformat_minor": 5
}
