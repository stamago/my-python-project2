{
 "cells": [
  {
   "cell_type": "markdown",
   "id": "dd5c23dc",
   "metadata": {},
   "source": [
    "# 📘 初級 × データ分析向け Python練習問題（解答・解説付き）\n",
    "\n",
    "このNotebookでは、PythonとPandas/NumPyを使った初級向けデータ分析練習問題10問を丁寧に解説しています。"
   ]
  },
  {
   "cell_type": "markdown",
   "id": "6597c176",
   "metadata": {},
   "source": [
    "## Q1: リスト [10, 20, 30, 40, 50] の平均を計算してください"
   ]
  },
  {
   "cell_type": "code",
   "execution_count": null,
   "id": "afd5d06e",
   "metadata": {},
   "outputs": [],
   "source": [
    "data = [10, 20, 30, 40, 50]\n",
    "average = sum(data) / len(data)\n",
    "print(f'平均は {average} です')"
   ]
  },
  {
   "cell_type": "markdown",
   "id": "dc58acfa",
   "metadata": {},
   "source": [
    "## Q2: タプル ('A', 'B', 'C', 'D') に 'C' が含まれているか確認してください"
   ]
  },
  {
   "cell_type": "code",
   "execution_count": null,
   "id": "e6206d2d",
   "metadata": {},
   "outputs": [],
   "source": [
    "my_tuple = ('A', 'B', 'C', 'D')\n",
    "print('C' in my_tuple)"
   ]
  },
  {
   "cell_type": "markdown",
   "id": "2ca5eb98",
   "metadata": {},
   "source": [
    "## Q3: NumPyで0〜9の配列を作り、3倍した配列も出力してください"
   ]
  },
  {
   "cell_type": "code",
   "execution_count": null,
   "id": "d2c7c332",
   "metadata": {},
   "outputs": [],
   "source": [
    "import numpy as np\n",
    "arr = np.arange(10)\n",
    "print('元の配列:', arr)\n",
    "print('3倍した配列:', arr * 3)"
   ]
  },
  {
   "cell_type": "markdown",
   "id": "0845dc6a",
   "metadata": {},
   "source": [
    "## Q4: 辞書データをPandasのDataFrameに変換して表示してください"
   ]
  },
  {
   "cell_type": "code",
   "execution_count": null,
   "id": "b09d4aa4",
   "metadata": {},
   "outputs": [],
   "source": [
    "import pandas as pd\n",
    "data = {'名前': ['佐藤', '鈴木', '高橋'], '点数': [88, 92, 76]}\n",
    "df = pd.DataFrame(data)\n",
    "df"
   ]
  },
  {
   "cell_type": "markdown",
   "id": "6763ed9e",
   "metadata": {},
   "source": [
    "## Q5: 「点数」列の平均を求めて出力してください"
   ]
  },
  {
   "cell_type": "code",
   "execution_count": null,
   "id": "e4418e53",
   "metadata": {},
   "outputs": [],
   "source": [
    "平均点 = df['点数'].mean()\n",
    "print(f'平均点は {平均点} 点です')"
   ]
  },
  {
   "cell_type": "markdown",
   "id": "6153f9aa",
   "metadata": {},
   "source": [
    "## Q6: 「点数」が80点以上の行を抽出してください"
   ]
  },
  {
   "cell_type": "code",
   "execution_count": null,
   "id": "6067ac85",
   "metadata": {},
   "outputs": [],
   "source": [
    "df[df['点数'] >= 80]"
   ]
  },
  {
   "cell_type": "markdown",
   "id": "4ac30dff",
   "metadata": {},
   "source": [
    "## Q7: 「評価」列を追加し、80点以上なら「合格」、未満なら「不合格」と表示してください"
   ]
  },
  {
   "cell_type": "code",
   "execution_count": null,
   "id": "c64b071d",
   "metadata": {},
   "outputs": [],
   "source": [
    "df['評価'] = df['点数'].apply(lambda x: '合格' if x >= 80 else '不合格')\n",
    "df"
   ]
  },
  {
   "cell_type": "markdown",
   "id": "ce68c972",
   "metadata": {},
   "source": [
    "## Q8: DataFrameをCSVに保存し、再読み込みして先頭5行を表示してください"
   ]
  },
  {
   "cell_type": "code",
   "execution_count": null,
   "id": "1b3f8d85",
   "metadata": {},
   "outputs": [],
   "source": [
    "df.to_csv('sample.csv', index=False)\n",
    "df_read = pd.read_csv('sample.csv')\n",
    "df_read.head()"
   ]
  },
  {
   "cell_type": "markdown",
   "id": "36c8c03f",
   "metadata": {},
   "source": [
    "## Q9: 「点数」のヒストグラムをMatplotlibで表示してください"
   ]
  },
  {
   "cell_type": "code",
   "execution_count": null,
   "id": "52ecb326",
   "metadata": {},
   "outputs": [],
   "source": [
    "import matplotlib.pyplot as plt\n",
    "plt.hist(df['点数'], bins=5)\n",
    "plt.title('点数のヒストグラム')\n",
    "plt.xlabel('点数')\n",
    "plt.ylabel('人数')\n",
    "plt.grid(True)\n",
    "plt.show()"
   ]
  },
  {
   "cell_type": "markdown",
   "id": "fb6dbf19",
   "metadata": {},
   "source": [
    "## Q10: 「点数」の最大・最小・中央値・標準偏差を求めてください"
   ]
  },
  {
   "cell_type": "code",
   "execution_count": null,
   "id": "a434f26a",
   "metadata": {},
   "outputs": [],
   "source": [
    "print('最大点:', df['点数'].max())\n",
    "print('最小点:', df['点数'].min())\n",
    "print('中央値:', df['点数'].median())\n",
    "print('標準偏差:', df['点数'].std())"
   ]
  }
 ],
 "metadata": {},
 "nbformat": 4,
 "nbformat_minor": 5
}
