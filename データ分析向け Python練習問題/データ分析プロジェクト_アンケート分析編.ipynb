{
 "cells": [
  {
   "cell_type": "markdown",
   "id": "520f8293",
   "metadata": {},
   "source": [
    "# 📊 データ分析プロジェクト形式：アンケート分析編\n",
    "\n",
    "このNotebookは実務を想定したアンケートデータの分析プロジェクト演習です。\n",
    "集計・可視化・考察を通して実践力を高めましょう。"
   ]
  },
  {
   "cell_type": "markdown",
   "id": "e923869a",
   "metadata": {},
   "source": [
    "## 🔸Step 1: データの読み込みと確認"
   ]
  },
  {
   "cell_type": "code",
   "execution_count": 1,
   "id": "5bd1a589",
   "metadata": {},
   "outputs": [
    {
     "data": {
      "text/html": [
       "<div>\n",
       "<style scoped>\n",
       "    .dataframe tbody tr th:only-of-type {\n",
       "        vertical-align: middle;\n",
       "    }\n",
       "\n",
       "    .dataframe tbody tr th {\n",
       "        vertical-align: top;\n",
       "    }\n",
       "\n",
       "    .dataframe thead th {\n",
       "        text-align: right;\n",
       "    }\n",
       "</style>\n",
       "<table border=\"1\" class=\"dataframe\">\n",
       "  <thead>\n",
       "    <tr style=\"text-align: right;\">\n",
       "      <th></th>\n",
       "      <th>性別</th>\n",
       "      <th>年齢</th>\n",
       "      <th>満足度</th>\n",
       "      <th>利用頻度</th>\n",
       "    </tr>\n",
       "  </thead>\n",
       "  <tbody>\n",
       "    <tr>\n",
       "      <th>0</th>\n",
       "      <td>男性</td>\n",
       "      <td>25</td>\n",
       "      <td>4</td>\n",
       "      <td>週1回</td>\n",
       "    </tr>\n",
       "    <tr>\n",
       "      <th>1</th>\n",
       "      <td>女性</td>\n",
       "      <td>34</td>\n",
       "      <td>5</td>\n",
       "      <td>月1回</td>\n",
       "    </tr>\n",
       "    <tr>\n",
       "      <th>2</th>\n",
       "      <td>女性</td>\n",
       "      <td>29</td>\n",
       "      <td>3</td>\n",
       "      <td>週1回</td>\n",
       "    </tr>\n",
       "    <tr>\n",
       "      <th>3</th>\n",
       "      <td>男性</td>\n",
       "      <td>45</td>\n",
       "      <td>2</td>\n",
       "      <td>週2回</td>\n",
       "    </tr>\n",
       "    <tr>\n",
       "      <th>4</th>\n",
       "      <td>女性</td>\n",
       "      <td>32</td>\n",
       "      <td>4</td>\n",
       "      <td>週1回</td>\n",
       "    </tr>\n",
       "  </tbody>\n",
       "</table>\n",
       "</div>"
      ],
      "text/plain": [
       "   性別  年齢  満足度 利用頻度\n",
       "0  男性  25    4  週1回\n",
       "1  女性  34    5  月1回\n",
       "2  女性  29    3  週1回\n",
       "3  男性  45    2  週2回\n",
       "4  女性  32    4  週1回"
      ]
     },
     "execution_count": 1,
     "metadata": {},
     "output_type": "execute_result"
    }
   ],
   "source": [
    "import pandas as pd\n",
    "import matplotlib.pyplot as plt\n",
    "\n",
    "# 架空のアンケートデータ\n",
    "survey_data = pd.DataFrame({\n",
    "    '性別': ['男性', '女性', '女性', '男性', '女性', '男性', '女性', '男性', '女性', '男性'],\n",
    "    '年齢': [25, 34, 29, 45, 32, 38, 41, 28, 35, 50],\n",
    "    '満足度': [4, 5, 3, 2, 4, 3, 5, 4, 2, 3],\n",
    "    '利用頻度': ['週1回', '月1回', '週1回', '週2回', '週1回', '月1回', '週2回', '週1回', '週1回', '月1回']\n",
    "})\n",
    "survey_data.head()"
   ]
  },
  {
   "cell_type": "markdown",
   "id": "0859688b",
   "metadata": {},
   "source": [
    "## 🔸Step 2: 性別ごとの回答者数を集計してください"
   ]
  },
  {
   "cell_type": "code",
   "execution_count": 2,
   "id": "254c186b",
   "metadata": {},
   "outputs": [
    {
     "data": {
      "text/plain": [
       "年齢\n",
       "25    1\n",
       "34    1\n",
       "29    1\n",
       "45    1\n",
       "32    1\n",
       "38    1\n",
       "41    1\n",
       "28    1\n",
       "35    1\n",
       "50    1\n",
       "Name: count, dtype: int64"
      ]
     },
     "execution_count": 2,
     "metadata": {},
     "output_type": "execute_result"
    }
   ],
   "source": [
    "# 👇 自分で書いてみましょう\n",
    "survey_data['年齢'].value_counts()"
   ]
  },
  {
   "cell_type": "markdown",
   "id": "29deaf6d",
   "metadata": {},
   "source": [
    "✅ 解答例"
   ]
  },
  {
   "cell_type": "code",
   "execution_count": 3,
   "id": "fbb45ece",
   "metadata": {},
   "outputs": [
    {
     "data": {
      "text/plain": [
       "性別\n",
       "男性    5\n",
       "女性    5\n",
       "Name: count, dtype: int64"
      ]
     },
     "execution_count": 3,
     "metadata": {},
     "output_type": "execute_result"
    }
   ],
   "source": [
    "survey_data['性別'].value_counts()"
   ]
  },
  {
   "cell_type": "markdown",
   "id": "cff6aa55",
   "metadata": {},
   "source": [
    "## 🔸Step 3: 満足度の平均と中央値を求めてください"
   ]
  },
  {
   "cell_type": "code",
   "execution_count": 4,
   "id": "f2b3c667",
   "metadata": {},
   "outputs": [
    {
     "name": "stdout",
     "output_type": "stream",
     "text": [
      "平均 3.5\n",
      "中央値 3.5\n"
     ]
    }
   ],
   "source": [
    "# 👇 自分で書いてみましょう\n",
    "print('平均', survey_data['満足度'].mean())\n",
    "print('中央値', survey_data['満足度'].mean())"
   ]
  },
  {
   "cell_type": "markdown",
   "id": "e927820b",
   "metadata": {},
   "source": [
    "✅ 解答例"
   ]
  },
  {
   "cell_type": "code",
   "execution_count": 5,
   "id": "35eaed90",
   "metadata": {},
   "outputs": [
    {
     "name": "stdout",
     "output_type": "stream",
     "text": [
      "平均: 3.5\n",
      "中央値: 3.5\n"
     ]
    }
   ],
   "source": [
    "print('平均:', survey_data['満足度'].mean())\n",
    "print('中央値:', survey_data['満足度'].median())"
   ]
  },
  {
   "cell_type": "markdown",
   "id": "62d86060",
   "metadata": {},
   "source": [
    "## 🔸Step 4: 性別ごとの満足度の平均を集計してください"
   ]
  },
  {
   "cell_type": "code",
   "execution_count": 6,
   "id": "bf10714a",
   "metadata": {},
   "outputs": [
    {
     "data": {
      "text/plain": [
       "性別\n",
       "女性    3.8\n",
       "男性    3.2\n",
       "Name: 満足度, dtype: float64"
      ]
     },
     "execution_count": 6,
     "metadata": {},
     "output_type": "execute_result"
    }
   ],
   "source": [
    "# 👇 自分で書いてみましょう\n",
    "survey_data.groupby('性別')['満足度'].mean()"
   ]
  },
  {
   "cell_type": "markdown",
   "id": "ce30e6a5",
   "metadata": {},
   "source": [
    "✅ 解答例"
   ]
  },
  {
   "cell_type": "code",
   "execution_count": 7,
   "id": "9b48653d",
   "metadata": {},
   "outputs": [
    {
     "data": {
      "text/plain": [
       "性別\n",
       "女性    3.8\n",
       "男性    3.2\n",
       "Name: 満足度, dtype: float64"
      ]
     },
     "execution_count": 7,
     "metadata": {},
     "output_type": "execute_result"
    }
   ],
   "source": [
    "survey_data.groupby('性別')['満足度'].mean()"
   ]
  },
  {
   "cell_type": "markdown",
   "id": "1d299ac3",
   "metadata": {},
   "source": [
    "## 🔸Step 5: 年齢の分布をヒストグラムで可視化してください"
   ]
  },
  {
   "cell_type": "code",
   "execution_count": 10,
   "id": "a63b1662",
   "metadata": {},
   "outputs": [
    {
     "data": {
      "image/png": "[encoded data removed]",
      "text/plain": [
       "<Figure size 640x480 with 1 Axes>"
      ]
     },
     "metadata": {},
     "output_type": "display_data"
    }
   ],
   "source": [
    "# 👇 自分で書いてみましょう\n",
    "import matplotlib.pyplot as plt\n",
    "import matplotlib\n",
    "\n",
    "# 日本語フォントを指定\n",
    "matplotlib.rcParams['font.family'] = 'MS Gothic'\n",
    "\n",
    "plt.hist(survey_data['年齢'], bins=5)\n",
    "plt.title('年齢分布')\n",
    "plt.xlabel('年齢')\n",
    "plt.ylabel('人数')\n",
    "plt.grid(True)\n",
    "plt.show()"
   ]
  },
  {
   "cell_type": "markdown",
   "id": "b7431cff",
   "metadata": {},
   "source": [
    "✅ 解答例"
   ]
  },
  {
   "cell_type": "code",
   "execution_count": null,
   "id": "d854d043",
   "metadata": {},
   "outputs": [],
   "source": [
    "plt.hist(survey_data['年齢'], bins=5)\n",
    "plt.title('年齢分布')\n",
    "plt.xlabel('年齢')\n",
    "plt.ylabel('人数')\n",
    "plt.grid(True)\n",
    "plt.show()"
   ]
  },
  {
   "cell_type": "markdown",
   "id": "97cb897b",
   "metadata": {},
   "source": [
    "## 🔸Step 6: 性別×利用頻度のクロス集計を作成してください"
   ]
  },
  {
   "cell_type": "code",
   "execution_count": null,
   "id": "45a6ad1a",
   "metadata": {},
   "outputs": [],
   "source": [
    "# 👇 自分で書いてみましょう"
   ]
  },
  {
   "cell_type": "markdown",
   "id": "93dcf2db",
   "metadata": {},
   "source": [
    "✅ 解答例"
   ]
  },
  {
   "cell_type": "code",
   "execution_count": 11,
   "id": "0cdbc266",
   "metadata": {},
   "outputs": [
    {
     "data": {
      "text/html": [
       "<div>\n",
       "<style scoped>\n",
       "    .dataframe tbody tr th:only-of-type {\n",
       "        vertical-align: middle;\n",
       "    }\n",
       "\n",
       "    .dataframe tbody tr th {\n",
       "        vertical-align: top;\n",
       "    }\n",
       "\n",
       "    .dataframe thead th {\n",
       "        text-align: right;\n",
       "    }\n",
       "</style>\n",
       "<table border=\"1\" class=\"dataframe\">\n",
       "  <thead>\n",
       "    <tr style=\"text-align: right;\">\n",
       "      <th>利用頻度</th>\n",
       "      <th>月1回</th>\n",
       "      <th>週1回</th>\n",
       "      <th>週2回</th>\n",
       "    </tr>\n",
       "    <tr>\n",
       "      <th>性別</th>\n",
       "      <th></th>\n",
       "      <th></th>\n",
       "      <th></th>\n",
       "    </tr>\n",
       "  </thead>\n",
       "  <tbody>\n",
       "    <tr>\n",
       "      <th>女性</th>\n",
       "      <td>1</td>\n",
       "      <td>3</td>\n",
       "      <td>1</td>\n",
       "    </tr>\n",
       "    <tr>\n",
       "      <th>男性</th>\n",
       "      <td>2</td>\n",
       "      <td>2</td>\n",
       "      <td>1</td>\n",
       "    </tr>\n",
       "  </tbody>\n",
       "</table>\n",
       "</div>"
      ],
      "text/plain": [
       "利用頻度  月1回  週1回  週2回\n",
       "性別                 \n",
       "女性      1    3    1\n",
       "男性      2    2    1"
      ]
     },
     "execution_count": 11,
     "metadata": {},
     "output_type": "execute_result"
    }
   ],
   "source": [
    "pd.crosstab(survey_data['性別'], survey_data['利用頻度'])"
   ]
  },
  {
   "cell_type": "markdown",
   "id": "2e5d7c72",
   "metadata": {},
   "source": [
    "## 🔸Step 7: 考察\n",
    "- 性別や年代で満足度に差はある？\n",
    "- 利用頻度の傾向は？\n",
    "- 改善提案はありますか？\n",
    "\n",
    "➡ 自由にコメントを記述してください。"
   ]
  }
 ],
 "metadata": {
  "kernelspec": {
   "display_name": "Python 3 (ipykernel)",
   "language": "python",
   "name": "python3"
  },
  "language_info": {
   "codemirror_mode": {
    "name": "ipython",
    "version": 3
   },
   "file_extension": ".py",
   "mimetype": "text/x-python",
   "name": "python",
   "nbconvert_exporter": "python",
   "pygments_lexer": "ipython3",
   "version": "3.13.1"
  }
 },
 "nbformat": 4,
 "nbformat_minor": 5
}
