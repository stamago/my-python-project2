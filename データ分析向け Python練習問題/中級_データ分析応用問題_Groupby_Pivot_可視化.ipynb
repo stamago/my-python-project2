{
 "cells": [
  {
   "cell_type": "markdown",
   "id": "681d1206",
   "metadata": {},
   "source": [
    "# 📗 中級：応用問題編（グラフ分析・groupby・pivot_table・可視化）\n",
    "\n",
    "Pandasを活用した集計処理・グルーピング・可視化の実践演習です。\n",
    "※演習問題 → 解答例 の形式で構成されています。"
   ]
  },
  {
   "cell_type": "markdown",
   "id": "74fdffa9",
   "metadata": {},
   "source": [
    "## 🔸準備：架空の売上データを作成"
   ]
  },
  {
   "cell_type": "code",
   "execution_count": 1,
   "id": "51bbbe28",
   "metadata": {},
   "outputs": [
    {
     "data": {
      "text/html": [
       "<div>\n",
       "<style scoped>\n",
       "    .dataframe tbody tr th:only-of-type {\n",
       "        vertical-align: middle;\n",
       "    }\n",
       "\n",
       "    .dataframe tbody tr th {\n",
       "        vertical-align: top;\n",
       "    }\n",
       "\n",
       "    .dataframe thead th {\n",
       "        text-align: right;\n",
       "    }\n",
       "</style>\n",
       "<table border=\"1\" class=\"dataframe\">\n",
       "  <thead>\n",
       "    <tr style=\"text-align: right;\">\n",
       "      <th></th>\n",
       "      <th>日付</th>\n",
       "      <th>商品カテゴリ</th>\n",
       "      <th>商品名</th>\n",
       "      <th>売上金額</th>\n",
       "    </tr>\n",
       "  </thead>\n",
       "  <tbody>\n",
       "    <tr>\n",
       "      <th>0</th>\n",
       "      <td>2024-01-01</td>\n",
       "      <td>A</td>\n",
       "      <td>商品1</td>\n",
       "      <td>1000</td>\n",
       "    </tr>\n",
       "    <tr>\n",
       "      <th>1</th>\n",
       "      <td>2024-01-02</td>\n",
       "      <td>B</td>\n",
       "      <td>商品2</td>\n",
       "      <td>1500</td>\n",
       "    </tr>\n",
       "    <tr>\n",
       "      <th>2</th>\n",
       "      <td>2024-01-03</td>\n",
       "      <td>A</td>\n",
       "      <td>商品1</td>\n",
       "      <td>1200</td>\n",
       "    </tr>\n",
       "    <tr>\n",
       "      <th>3</th>\n",
       "      <td>2024-01-04</td>\n",
       "      <td>C</td>\n",
       "      <td>商品3</td>\n",
       "      <td>1800</td>\n",
       "    </tr>\n",
       "    <tr>\n",
       "      <th>4</th>\n",
       "      <td>2024-01-05</td>\n",
       "      <td>B</td>\n",
       "      <td>商品2</td>\n",
       "      <td>1400</td>\n",
       "    </tr>\n",
       "    <tr>\n",
       "      <th>5</th>\n",
       "      <td>2024-01-06</td>\n",
       "      <td>C</td>\n",
       "      <td>商品3</td>\n",
       "      <td>2000</td>\n",
       "    </tr>\n",
       "    <tr>\n",
       "      <th>6</th>\n",
       "      <td>2024-01-07</td>\n",
       "      <td>A</td>\n",
       "      <td>商品1</td>\n",
       "      <td>1100</td>\n",
       "    </tr>\n",
       "    <tr>\n",
       "      <th>7</th>\n",
       "      <td>2024-01-08</td>\n",
       "      <td>B</td>\n",
       "      <td>商品2</td>\n",
       "      <td>1600</td>\n",
       "    </tr>\n",
       "    <tr>\n",
       "      <th>8</th>\n",
       "      <td>2024-01-09</td>\n",
       "      <td>A</td>\n",
       "      <td>商品1</td>\n",
       "      <td>1300</td>\n",
       "    </tr>\n",
       "    <tr>\n",
       "      <th>9</th>\n",
       "      <td>2024-01-10</td>\n",
       "      <td>C</td>\n",
       "      <td>商品3</td>\n",
       "      <td>1900</td>\n",
       "    </tr>\n",
       "  </tbody>\n",
       "</table>\n",
       "</div>"
      ],
      "text/plain": [
       "          日付 商品カテゴリ  商品名  売上金額\n",
       "0 2024-01-01      A  商品1  1000\n",
       "1 2024-01-02      B  商品2  1500\n",
       "2 2024-01-03      A  商品1  1200\n",
       "3 2024-01-04      C  商品3  1800\n",
       "4 2024-01-05      B  商品2  1400\n",
       "5 2024-01-06      C  商品3  2000\n",
       "6 2024-01-07      A  商品1  1100\n",
       "7 2024-01-08      B  商品2  1600\n",
       "8 2024-01-09      A  商品1  1300\n",
       "9 2024-01-10      C  商品3  1900"
      ]
     },
     "execution_count": 1,
     "metadata": {},
     "output_type": "execute_result"
    }
   ],
   "source": [
    "import pandas as pd\n",
    "\n",
    "sales_data = pd.DataFrame({\n",
    "    '日付': pd.date_range(start='2024-01-01', periods=10, freq='D'),\n",
    "    '商品カテゴリ': ['A', 'B', 'A', 'C', 'B', 'C', 'A', 'B', 'A', 'C'],\n",
    "    '商品名': ['商品1', '商品2', '商品1', '商品3', '商品2', '商品3', '商品1', '商品2', '商品1', '商品3'],\n",
    "    '売上金額': [1000, 1500, 1200, 1800, 1400, 2000, 1100, 1600, 1300, 1900]\n",
    "})\n",
    "sales_data"
   ]
  },
  {
   "cell_type": "markdown",
   "id": "b54bc48f",
   "metadata": {},
   "source": [
    "## Q1: 商品カテゴリごとの売上合計を求めてください"
   ]
  },
  {
   "cell_type": "code",
   "execution_count": null,
   "id": "edc6da52",
   "metadata": {},
   "outputs": [],
   "source": [
    "# 👇 自分で書いてみましょう"
   ]
  },
  {
   "cell_type": "markdown",
   "id": "83d7e45a",
   "metadata": {},
   "source": [
    "✅ 解答例"
   ]
  },
  {
   "cell_type": "code",
   "execution_count": 2,
   "id": "08117af9",
   "metadata": {},
   "outputs": [
    {
     "data": {
      "text/plain": [
       "商品カテゴリ\n",
       "A    4600\n",
       "B    4500\n",
       "C    5700\n",
       "Name: 売上金額, dtype: int64"
      ]
     },
     "execution_count": 2,
     "metadata": {},
     "output_type": "execute_result"
    }
   ],
   "source": [
    "sales_data.groupby('商品カテゴリ')['売上金額'].sum()"
   ]
  },
  {
   "cell_type": "code",
   "execution_count": 3,
   "id": "88c2dd7b-5129-478b-87f0-dcdcebfd3612",
   "metadata": {},
   "outputs": [
    {
     "data": {
      "text/plain": [
       "商品カテゴリ\n",
       "C    5700\n",
       "A    4600\n",
       "B    4500\n",
       "Name: 売上金額, dtype: int64"
      ]
     },
     "execution_count": 3,
     "metadata": {},
     "output_type": "execute_result"
    }
   ],
   "source": [
    "sales_data.groupby('商品カテゴリ')['売上金額'].sum().sort_values(ascending=False)"
   ]
  },
  {
   "cell_type": "code",
   "execution_count": 5,
   "id": "35f1b298-40c1-49cf-923c-ab5389a97c18",
   "metadata": {},
   "outputs": [
    {
     "data": {
      "text/plain": [
       "<Axes: title={'center': '商品カテゴリ別 売上金額'}, xlabel='商品カテゴリ'>"
      ]
     },
     "execution_count": 5,
     "metadata": {},
     "output_type": "execute_result"
    },
    {
     "data": {
      "image/png": "[encoded data removed]",
      "text/plain": [
       "<Figure size 640x480 with 1 Axes>"
      ]
     },
     "metadata": {},
     "output_type": "display_data"
    }
   ],
   "source": [
    "import matplotlib.pyplot as plt\n",
    "import matplotlib\n",
    "\n",
    "# 日本語対応フォントに変更（例：MS Gothic, Meiryo, Yu Gothic など）\n",
    "matplotlib.rcParams['font.family'] = 'Meiryo'  # ←ここを変更\n",
    "\n",
    "\n",
    "sales_data.groupby('商品カテゴリ')['売上金額'].sum().plot(kind='bar', title='商品カテゴリ別 売上金額')"
   ]
  },
  {
   "cell_type": "code",
   "execution_count": 6,
   "id": "1f3bf388-83f0-4122-a5b3-bf1432985e63",
   "metadata": {},
   "outputs": [
    {
     "name": "stdout",
     "output_type": "stream",
     "text": [
      "  商品カテゴリ  売上金額\n",
      "0      A  4600\n",
      "1      B  4500\n",
      "2      C  5700\n"
     ]
    }
   ],
   "source": [
    "sales_summary = sales_data.groupby('商品カテゴリ', as_index=False)['売上金額'].sum()\n",
    "print(sales_summary)"
   ]
  },
  {
   "cell_type": "markdown",
   "id": "9dd0ce0d",
   "metadata": {},
   "source": [
    "## Q2: 商品カテゴリごとの売上平均を求めてください"
   ]
  },
  {
   "cell_type": "code",
   "execution_count": null,
   "id": "0095ed4f",
   "metadata": {},
   "outputs": [],
   "source": [
    "# 👇 自分で書いてみましょう"
   ]
  },
  {
   "cell_type": "markdown",
   "id": "a54fbbe6",
   "metadata": {},
   "source": [
    "✅ 解答例"
   ]
  },
  {
   "cell_type": "code",
   "execution_count": 7,
   "id": "331e4a71",
   "metadata": {},
   "outputs": [
    {
     "data": {
      "text/plain": [
       "商品カテゴリ\n",
       "A    1150.0\n",
       "B    1500.0\n",
       "C    1900.0\n",
       "Name: 売上金額, dtype: float64"
      ]
     },
     "execution_count": 7,
     "metadata": {},
     "output_type": "execute_result"
    }
   ],
   "source": [
    "sales_data.groupby('商品カテゴリ')['売上金額'].mean()"
   ]
  },
  {
   "cell_type": "markdown",
   "id": "1ed9c382",
   "metadata": {},
   "source": [
    "## Q3: pivot_tableでカテゴリ×商品名ごとの売上合計を表示してください"
   ]
  },
  {
   "cell_type": "code",
   "execution_count": null,
   "id": "fb9688aa",
   "metadata": {},
   "outputs": [],
   "source": [
    "# 👇 自分で書いてみましょう"
   ]
  },
  {
   "cell_type": "markdown",
   "id": "215879a2",
   "metadata": {},
   "source": [
    "✅ 解答例"
   ]
  },
  {
   "cell_type": "code",
   "execution_count": 8,
   "id": "661dd297",
   "metadata": {},
   "outputs": [
    {
     "data": {
      "text/html": [
       "<div>\n",
       "<style scoped>\n",
       "    .dataframe tbody tr th:only-of-type {\n",
       "        vertical-align: middle;\n",
       "    }\n",
       "\n",
       "    .dataframe tbody tr th {\n",
       "        vertical-align: top;\n",
       "    }\n",
       "\n",
       "    .dataframe thead th {\n",
       "        text-align: right;\n",
       "    }\n",
       "</style>\n",
       "<table border=\"1\" class=\"dataframe\">\n",
       "  <thead>\n",
       "    <tr style=\"text-align: right;\">\n",
       "      <th>商品名</th>\n",
       "      <th>商品1</th>\n",
       "      <th>商品2</th>\n",
       "      <th>商品3</th>\n",
       "    </tr>\n",
       "    <tr>\n",
       "      <th>商品カテゴリ</th>\n",
       "      <th></th>\n",
       "      <th></th>\n",
       "      <th></th>\n",
       "    </tr>\n",
       "  </thead>\n",
       "  <tbody>\n",
       "    <tr>\n",
       "      <th>A</th>\n",
       "      <td>4600</td>\n",
       "      <td>0</td>\n",
       "      <td>0</td>\n",
       "    </tr>\n",
       "    <tr>\n",
       "      <th>B</th>\n",
       "      <td>0</td>\n",
       "      <td>4500</td>\n",
       "      <td>0</td>\n",
       "    </tr>\n",
       "    <tr>\n",
       "      <th>C</th>\n",
       "      <td>0</td>\n",
       "      <td>0</td>\n",
       "      <td>5700</td>\n",
       "    </tr>\n",
       "  </tbody>\n",
       "</table>\n",
       "</div>"
      ],
      "text/plain": [
       "商品名      商品1   商品2   商品3\n",
       "商品カテゴリ                  \n",
       "A       4600     0     0\n",
       "B          0  4500     0\n",
       "C          0     0  5700"
      ]
     },
     "execution_count": 8,
     "metadata": {},
     "output_type": "execute_result"
    }
   ],
   "source": [
    "sales_data.pivot_table(values='売上金額', index='商品カテゴリ', columns='商品名', aggfunc='sum', fill_value=0)"
   ]
  },
  {
   "cell_type": "markdown",
   "id": "1b4d11a0",
   "metadata": {},
   "source": [
    "## Q4: 日別売上推移を折れ線グラフで可視化してください"
   ]
  },
  {
   "cell_type": "code",
   "execution_count": null,
   "id": "4ac5eeb7",
   "metadata": {},
   "outputs": [],
   "source": [
    "# 👇 自分で書いてみましょう"
   ]
  },
  {
   "cell_type": "markdown",
   "id": "e821cdf1",
   "metadata": {},
   "source": [
    "✅ 解答例"
   ]
  },
  {
   "cell_type": "code",
   "execution_count": 9,
   "id": "06ef5ebb",
   "metadata": {},
   "outputs": [
    {
     "data": {
      "image/png": "[encoded data removed]",
      "text/plain": [
       "<Figure size 640x480 with 1 Axes>"
      ]
     },
     "metadata": {},
     "output_type": "display_data"
    }
   ],
   "source": [
    "import matplotlib.pyplot as plt\n",
    "plt.plot(sales_data['日付'], sales_data['売上金額'], marker='o')\n",
    "plt.title('日別売上推移')\n",
    "plt.xlabel('日付')\n",
    "plt.ylabel('売上金額')\n",
    "plt.grid(True)\n",
    "plt.xticks(rotation=45)\n",
    "plt.show()"
   ]
  },
  {
   "cell_type": "markdown",
   "id": "ede59964",
   "metadata": {},
   "source": [
    "## Q5: 商品カテゴリ別の売上合計を棒グラフで表示してください"
   ]
  },
  {
   "cell_type": "code",
   "execution_count": null,
   "id": "79807cf2",
   "metadata": {},
   "outputs": [],
   "source": [
    "# 👇 自分で書いてみましょう"
   ]
  },
  {
   "cell_type": "markdown",
   "id": "aa442acf",
   "metadata": {},
   "source": [
    "✅ 解答例"
   ]
  },
  {
   "cell_type": "code",
   "execution_count": 10,
   "id": "19c2736d",
   "metadata": {},
   "outputs": [
    {
     "data": {
      "image/png": "[encoded data removed]",
      "text/plain": [
       "<Figure size 640x480 with 1 Axes>"
      ]
     },
     "metadata": {},
     "output_type": "display_data"
    }
   ],
   "source": [
    "category_sales = sales_data.groupby('商品カテゴリ')['売上金額'].sum()\n",
    "category_sales.plot(kind='bar', title='カテゴリ別売上合計', xlabel='カテゴリ', ylabel='売上金額')\n",
    "plt.grid(True)\n",
    "plt.show()"
   ]
  },
  {
   "cell_type": "code",
   "execution_count": null,
   "id": "f3dc88df-27c5-4b93-8619-4672cd47c264",
   "metadata": {},
   "outputs": [],
   "source": []
  }
 ],
 "metadata": {
  "kernelspec": {
   "display_name": "Python 3 (ipykernel)",
   "language": "python",
   "name": "python3"
  },
  "language_info": {
   "codemirror_mode": {
    "name": "ipython",
    "version": 3
   },
   "file_extension": ".py",
   "mimetype": "text/x-python",
   "name": "python",
   "nbconvert_exporter": "python",
   "pygments_lexer": "ipython3",
   "version": "3.13.1"
  }
 },
 "nbformat": 4,
 "nbformat_minor": 5
}
